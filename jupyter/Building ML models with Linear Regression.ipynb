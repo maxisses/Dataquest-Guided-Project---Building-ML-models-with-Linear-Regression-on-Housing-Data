{
 "cells": [
  {
   "cell_type": "code",
   "execution_count": 269,
   "metadata": {
    "collapsed": true,
    "deletable": true,
    "editable": true
   },
   "outputs": [],
   "source": [
    "import pandas as pd\n",
    "import matplotlib.pyplot as plt\n",
    "import numpy as np"
   ]
  },
  {
   "cell_type": "code",
   "execution_count": 270,
   "metadata": {
    "collapsed": false,
    "deletable": true,
    "editable": true
   },
   "outputs": [],
   "source": [
    "data = pd.read_csv('../datasets/AmesHousing.tsv', delimiter=\"\\t\")"
   ]
  },
  {
   "cell_type": "code",
   "execution_count": 271,
   "metadata": {
    "collapsed": true
   },
   "outputs": [],
   "source": [
    "def transform_features(data):\n",
    "    return df"
   ]
  },
  {
   "cell_type": "code",
   "execution_count": 272,
   "metadata": {
    "collapsed": false
   },
   "outputs": [],
   "source": [
    "def select_features(df):\n",
    "    return df[[\"Gr Liv Area\", \"SalePrice\"]]"
   ]
  },
  {
   "cell_type": "code",
   "execution_count": 273,
   "metadata": {
    "collapsed": false,
    "deletable": true,
    "editable": true
   },
   "outputs": [
    {
     "data": {
      "text/plain": [
       "57088.25161263909"
      ]
     },
     "execution_count": 273,
     "metadata": {},
     "output_type": "execute_result"
    }
   ],
   "source": [
    "def train_and_test(df):\n",
    "    train = df.iloc[:1460]\n",
    "    test = df.iloc[1460:]\n",
    "    \n",
    "    from sklearn.linear_model import LinearRegression\n",
    "    from sklearn.metrics import mean_squared_error\n",
    "    \n",
    "    features = train.select_dtypes(include=['int', 'float']).drop(columns=\"SalePrice\").columns\n",
    "    lr = LinearRegression()\n",
    "    lr.fit(train[features], train['SalePrice'])\n",
    "\n",
    "    test_predictions = lr.predict(test[features])\n",
    "\n",
    "    test_mse = mean_squared_error(test_predictions, test['SalePrice'])\n",
    "    \n",
    "    test_rmse = np.sqrt(test_mse)\n",
    "\n",
    "    return test_rmse\n",
    "\n",
    "filtered_df = select_features(data)\n",
    "rmse = train_and_test(filtered_df)\n",
    "rmse"
   ]
  },
  {
   "cell_type": "markdown",
   "metadata": {},
   "source": [
    "# Clean the data and select transformations"
   ]
  },
  {
   "cell_type": "code",
   "execution_count": 274,
   "metadata": {
    "collapsed": false
   },
   "outputs": [
    {
     "name": "stdout",
     "output_type": "stream",
     "text": [
      "<class 'pandas.core.frame.DataFrame'>\n",
      "RangeIndex: 2930 entries, 0 to 2929\n",
      "Data columns (total 71 columns):\n",
      "Order              2930 non-null int64\n",
      "PID                2930 non-null int64\n",
      "MS SubClass        2930 non-null int64\n",
      "MS Zoning          2930 non-null object\n",
      "Lot Area           2930 non-null int64\n",
      "Street             2930 non-null object\n",
      "Lot Shape          2930 non-null object\n",
      "Land Contour       2930 non-null object\n",
      "Utilities          2930 non-null object\n",
      "Lot Config         2930 non-null object\n",
      "Land Slope         2930 non-null object\n",
      "Neighborhood       2930 non-null object\n",
      "Condition 1        2930 non-null object\n",
      "Condition 2        2930 non-null object\n",
      "Bldg Type          2930 non-null object\n",
      "House Style        2930 non-null object\n",
      "Overall Qual       2930 non-null int64\n",
      "Overall Cond       2930 non-null int64\n",
      "Year Built         2930 non-null int64\n",
      "Year Remod/Add     2930 non-null int64\n",
      "Roof Style         2930 non-null object\n",
      "Roof Matl          2930 non-null object\n",
      "Exterior 1st       2930 non-null object\n",
      "Exterior 2nd       2930 non-null object\n",
      "Mas Vnr Type       2907 non-null object\n",
      "Mas Vnr Area       2907 non-null float64\n",
      "Exter Qual         2930 non-null object\n",
      "Exter Cond         2930 non-null object\n",
      "Foundation         2930 non-null object\n",
      "Bsmt Qual          2850 non-null object\n",
      "Bsmt Cond          2850 non-null object\n",
      "Bsmt Exposure      2847 non-null object\n",
      "BsmtFin Type 1     2850 non-null object\n",
      "BsmtFin SF 1       2929 non-null float64\n",
      "BsmtFin Type 2     2849 non-null object\n",
      "BsmtFin SF 2       2929 non-null float64\n",
      "Bsmt Unf SF        2929 non-null float64\n",
      "Total Bsmt SF      2929 non-null float64\n",
      "Heating            2930 non-null object\n",
      "Heating QC         2930 non-null object\n",
      "Central Air        2930 non-null object\n",
      "Electrical         2929 non-null object\n",
      "1st Flr SF         2930 non-null int64\n",
      "2nd Flr SF         2930 non-null int64\n",
      "Low Qual Fin SF    2930 non-null int64\n",
      "Gr Liv Area        2930 non-null int64\n",
      "Bsmt Full Bath     2928 non-null float64\n",
      "Bsmt Half Bath     2928 non-null float64\n",
      "Full Bath          2930 non-null int64\n",
      "Half Bath          2930 non-null int64\n",
      "Bedroom AbvGr      2930 non-null int64\n",
      "Kitchen AbvGr      2930 non-null int64\n",
      "Kitchen Qual       2930 non-null object\n",
      "TotRms AbvGrd      2930 non-null int64\n",
      "Functional         2930 non-null object\n",
      "Fireplaces         2930 non-null int64\n",
      "Garage Cars        2929 non-null float64\n",
      "Garage Area        2929 non-null float64\n",
      "Paved Drive        2930 non-null object\n",
      "Wood Deck SF       2930 non-null int64\n",
      "Open Porch SF      2930 non-null int64\n",
      "Enclosed Porch     2930 non-null int64\n",
      "3Ssn Porch         2930 non-null int64\n",
      "Screen Porch       2930 non-null int64\n",
      "Pool Area          2930 non-null int64\n",
      "Misc Val           2930 non-null int64\n",
      "Mo Sold            2930 non-null int64\n",
      "Yr Sold            2930 non-null int64\n",
      "Sale Type          2930 non-null object\n",
      "Sale Condition     2930 non-null object\n",
      "SalePrice          2930 non-null int64\n",
      "dtypes: float64(9), int64(28), object(34)\n",
      "memory usage: 1.6+ MB\n",
      "None\n"
     ]
    }
   ],
   "source": [
    "#1 drop columns with more than 25% missing values\n",
    "missing_val = data.isnull().sum()\n",
    "drop_cols = missing_val[(missing_val/len(data)) > 0.05]\n",
    "data = data.drop(columns=drop_cols.index)\n",
    "print(data.info())"
   ]
  },
  {
   "cell_type": "code",
   "execution_count": 275,
   "metadata": {
    "collapsed": false
   },
   "outputs": [
    {
     "name": "stdout",
     "output_type": "stream",
     "text": [
      "<class 'pandas.core.frame.DataFrame'>\n",
      "RangeIndex: 2930 entries, 0 to 2929\n",
      "Data columns (total 64 columns):\n",
      "Order              2930 non-null int64\n",
      "PID                2930 non-null int64\n",
      "MS SubClass        2930 non-null int64\n",
      "MS Zoning          2930 non-null object\n",
      "Lot Area           2930 non-null int64\n",
      "Street             2930 non-null object\n",
      "Lot Shape          2930 non-null object\n",
      "Land Contour       2930 non-null object\n",
      "Utilities          2930 non-null object\n",
      "Lot Config         2930 non-null object\n",
      "Land Slope         2930 non-null object\n",
      "Neighborhood       2930 non-null object\n",
      "Condition 1        2930 non-null object\n",
      "Condition 2        2930 non-null object\n",
      "Bldg Type          2930 non-null object\n",
      "House Style        2930 non-null object\n",
      "Overall Qual       2930 non-null int64\n",
      "Overall Cond       2930 non-null int64\n",
      "Year Built         2930 non-null int64\n",
      "Year Remod/Add     2930 non-null int64\n",
      "Roof Style         2930 non-null object\n",
      "Roof Matl          2930 non-null object\n",
      "Exterior 1st       2930 non-null object\n",
      "Exterior 2nd       2930 non-null object\n",
      "Mas Vnr Area       2907 non-null float64\n",
      "Exter Qual         2930 non-null object\n",
      "Exter Cond         2930 non-null object\n",
      "Foundation         2930 non-null object\n",
      "BsmtFin SF 1       2929 non-null float64\n",
      "BsmtFin SF 2       2929 non-null float64\n",
      "Bsmt Unf SF        2929 non-null float64\n",
      "Total Bsmt SF      2929 non-null float64\n",
      "Heating            2930 non-null object\n",
      "Heating QC         2930 non-null object\n",
      "Central Air        2930 non-null object\n",
      "1st Flr SF         2930 non-null int64\n",
      "2nd Flr SF         2930 non-null int64\n",
      "Low Qual Fin SF    2930 non-null int64\n",
      "Gr Liv Area        2930 non-null int64\n",
      "Bsmt Full Bath     2928 non-null float64\n",
      "Bsmt Half Bath     2928 non-null float64\n",
      "Full Bath          2930 non-null int64\n",
      "Half Bath          2930 non-null int64\n",
      "Bedroom AbvGr      2930 non-null int64\n",
      "Kitchen AbvGr      2930 non-null int64\n",
      "Kitchen Qual       2930 non-null object\n",
      "TotRms AbvGrd      2930 non-null int64\n",
      "Functional         2930 non-null object\n",
      "Fireplaces         2930 non-null int64\n",
      "Garage Cars        2929 non-null float64\n",
      "Garage Area        2929 non-null float64\n",
      "Paved Drive        2930 non-null object\n",
      "Wood Deck SF       2930 non-null int64\n",
      "Open Porch SF      2930 non-null int64\n",
      "Enclosed Porch     2930 non-null int64\n",
      "3Ssn Porch         2930 non-null int64\n",
      "Screen Porch       2930 non-null int64\n",
      "Pool Area          2930 non-null int64\n",
      "Misc Val           2930 non-null int64\n",
      "Mo Sold            2930 non-null int64\n",
      "Yr Sold            2930 non-null int64\n",
      "Sale Type          2930 non-null object\n",
      "Sale Condition     2930 non-null object\n",
      "SalePrice          2930 non-null int64\n",
      "dtypes: float64(9), int64(28), object(27)\n",
      "memory usage: 1.4+ MB\n",
      "None\n"
     ]
    }
   ],
   "source": [
    "#2 drop text cols with more than 1 missing val\n",
    "text_cols = data.select_dtypes(include=[\"object\"]).isnull().sum()\n",
    "text_cols_drop = text_cols[text_cols > 0]\n",
    "data = data.drop(columns=text_cols_drop.index)\n",
    "print(data.info())"
   ]
  },
  {
   "cell_type": "code",
   "execution_count": 276,
   "metadata": {
    "collapsed": false
   },
   "outputs": [
    {
     "data": {
      "text/plain": [
       "0    64\n",
       "dtype: int64"
      ]
     },
     "execution_count": 276,
     "metadata": {},
     "output_type": "execute_result"
    }
   ],
   "source": [
    "#3 fill in numerical columns with less than 5% missing values with the mode\n",
    "numerical_cols = data.select_dtypes(include=['int', 'float'])\n",
    "num_missing_val = data.isnull().sum()\n",
    "mode_replace_cols = num_missing_val[((num_missing_val/len(data)) < 0.05) &((num_missing_val/len(data)) > 0)] \n",
    "for col in mode_replace_cols.index:\n",
    "    data[col].fillna(int(data[col].mode()), inplace=True)\n",
    "data.isnull().sum().value_counts()"
   ]
  },
  {
   "cell_type": "code",
   "execution_count": 284,
   "metadata": {
    "collapsed": false
   },
   "outputs": [],
   "source": [
    "#4 new features to built: \n",
    "# a) how old has it been at sale YEARS_sold\n",
    "# b) how long has last remod been ago years_remod\n",
    "\n",
    "data[\"years_sold\"] = data[\"Yr Sold\"] - data[\"Year Built\"]\n",
    "data[\"years_remod\"] = data[\"Yr Sold\"] - data[\"Year Remod/Add\"]\n",
    "\n",
    "data = data.drop(data[data[\"years_sold\"] < 0].index)\n",
    "data = data.drop(data[data[\"years_remod\"] < 0].index)"
   ]
  },
  {
   "cell_type": "code",
   "execution_count": 285,
   "metadata": {
    "collapsed": false
   },
   "outputs": [
    {
     "data": {
      "text/plain": [
       "0      114\n",
       "1      218\n",
       "2       90\n",
       "3       60\n",
       "4       76\n",
       "5       66\n",
       "6       66\n",
       "7       51\n",
       "8       44\n",
       "9       50\n",
       "10      40\n",
       "11      47\n",
       "12      33\n",
       "13      38\n",
       "14      27\n",
       "15      31\n",
       "16      22\n",
       "17      25\n",
       "18      14\n",
       "19      16\n",
       "20       9\n",
       "21       9\n",
       "22      12\n",
       "23      12\n",
       "24       8\n",
       "25      11\n",
       "26      17\n",
       "27       9\n",
       "28      19\n",
       "29      30\n",
       "      ... \n",
       "97      11\n",
       "98      10\n",
       "99      13\n",
       "100      5\n",
       "101      1\n",
       "102      1\n",
       "103      3\n",
       "104      1\n",
       "106     10\n",
       "107      5\n",
       "108      7\n",
       "109      5\n",
       "110      5\n",
       "111      1\n",
       "112      2\n",
       "113      1\n",
       "114      2\n",
       "115      1\n",
       "117      3\n",
       "118      2\n",
       "119      2\n",
       "120      1\n",
       "122      1\n",
       "125      1\n",
       "126      1\n",
       "127      2\n",
       "128      2\n",
       "129      2\n",
       "135      1\n",
       "136      1\n",
       "Name: years_sold, Length: 127, dtype: int64"
      ]
     },
     "execution_count": 285,
     "metadata": {},
     "output_type": "execute_result"
    }
   ],
   "source": [
    "data[\"years_sold\"].value_counts().sort_index()"
   ]
  },
  {
   "cell_type": "code",
   "execution_count": 286,
   "metadata": {
    "collapsed": false
   },
   "outputs": [
    {
     "data": {
      "text/plain": [
       "0     238\n",
       "1     193\n",
       "2     104\n",
       "3      97\n",
       "4     111\n",
       "5      91\n",
       "6      83\n",
       "7      75\n",
       "8      85\n",
       "9      71\n",
       "10     66\n",
       "11     62\n",
       "12     59\n",
       "13     57\n",
       "14     46\n",
       "15     37\n",
       "16     38\n",
       "17     33\n",
       "18     18\n",
       "19     21\n",
       "20     18\n",
       "21     15\n",
       "22     13\n",
       "23     18\n",
       "24     10\n",
       "25     14\n",
       "26     17\n",
       "27     18\n",
       "28     22\n",
       "29     26\n",
       "     ... \n",
       "31     50\n",
       "32     37\n",
       "33     29\n",
       "34     30\n",
       "35     22\n",
       "36     37\n",
       "37     30\n",
       "38     27\n",
       "39     47\n",
       "40     30\n",
       "41     26\n",
       "42     33\n",
       "43     27\n",
       "44     34\n",
       "45     22\n",
       "46     25\n",
       "47     28\n",
       "48     26\n",
       "49     27\n",
       "50     23\n",
       "51     31\n",
       "52     29\n",
       "53     30\n",
       "54     21\n",
       "55     23\n",
       "56    112\n",
       "57     79\n",
       "58     76\n",
       "59     78\n",
       "60     42\n",
       "Name: years_remod, Length: 61, dtype: int64"
      ]
     },
     "execution_count": 286,
     "metadata": {},
     "output_type": "execute_result"
    }
   ],
   "source": [
    "data[\"years_remod\"].value_counts().sort_index()"
   ]
  },
  {
   "cell_type": "code",
   "execution_count": 288,
   "metadata": {
    "collapsed": false
   },
   "outputs": [],
   "source": [
    "## Drop columns that aren't useful for ML\n",
    "data = data.drop([\"PID\", \"Order\"], axis=1)\n",
    "\n",
    "## Drop columns that leak info about the final sale\n",
    "data = data.drop([\"Mo Sold\", \"Sale Condition\", \"Sale Type\", \"Yr Sold\"], axis=1)"
   ]
  },
  {
   "cell_type": "code",
   "execution_count": 290,
   "metadata": {
    "collapsed": false
   },
   "outputs": [
    {
     "data": {
      "text/plain": [
       "55275.36731241307"
      ]
     },
     "execution_count": 290,
     "metadata": {},
     "output_type": "execute_result"
    }
   ],
   "source": [
    "def transform_features(data):\n",
    "    #1 drop columns with more than 25% missing values\n",
    "    missing_val = data.isnull().sum()\n",
    "    drop_cols = missing_val[(missing_val/len(data)) > 0.05]\n",
    "    data = data.drop(columns=drop_cols.index)\n",
    "    \n",
    "    #2 drop text cols with more than 1 missing val\n",
    "    text_cols = data.select_dtypes(include=[\"object\"]).isnull().sum()\n",
    "    text_cols_drop = text_cols[text_cols > 0]\n",
    "    data = data.drop(columns=text_cols_drop.index)\n",
    "\n",
    "    #3 fill in numerical columns with less than 5% missing values with the mode\n",
    "    numerical_cols = data.select_dtypes(include=['int', 'float'])\n",
    "    num_missing_val = data.isnull().sum()\n",
    "    mode_replace_cols = num_missing_val[((num_missing_val/len(data)) < 0.05) &((num_missing_val/len(data)) > 0)] \n",
    "    for col in mode_replace_cols.index:\n",
    "        data[col].fillna(int(data[col].mode()), inplace=True)\n",
    "        \n",
    "    #4 new features to built: \n",
    "    # a) how old has it been at sale YEARS_sold\n",
    "    # b) how long has last remod been ago years_remod\n",
    "\n",
    "    data[\"years_sold\"] = data[\"Yr Sold\"] - data[\"Year Built\"]\n",
    "    data[\"years_remod\"] = data[\"Yr Sold\"] - data[\"Year Remod/Add\"]\n",
    "\n",
    "    data = data.drop(data[data[\"years_sold\"] < 0].index)\n",
    "    data = data.drop(data[data[\"years_remod\"] < 0].index)\n",
    "    \n",
    "    ## Drop columns that aren't useful for ML\n",
    "    data = data.drop([\"PID\", \"Order\"], axis=1)\n",
    "\n",
    "    ## Drop columns that leak info about the final sale\n",
    "    data = data.drop([\"Mo Sold\", \"Sale Condition\", \"Sale Type\", \"Yr Sold\"], axis=1)\n",
    "    return data\n",
    "\n",
    "data = pd.read_csv('../datasets/AmesHousing.tsv', delimiter=\"\\t\")\n",
    "transform_df = transform_features(data)\n",
    "filtered_df = select_features(transform_df)\n",
    "rmse = train_and_test(filtered_df)\n",
    "\n",
    "rmse"
   ]
  },
  {
   "cell_type": "code",
   "execution_count": 292,
   "metadata": {
    "collapsed": false
   },
   "outputs": [
    {
     "ename": "ImportError",
     "evalue": "No module named 'seaborn'",
     "output_type": "error",
     "traceback": [
      "\u001b[0;31m---------------------------------------------------------------------------\u001b[0m",
      "\u001b[0;31mImportError\u001b[0m                               Traceback (most recent call last)",
      "\u001b[0;32m<ipython-input-292-ed9806ce3570>\u001b[0m in \u001b[0;36m<module>\u001b[0;34m()\u001b[0m\n\u001b[0;32m----> 1\u001b[0;31m \u001b[0;32mimport\u001b[0m \u001b[0mseaborn\u001b[0m \u001b[0;32mas\u001b[0m \u001b[0msns\u001b[0m\u001b[0;34m\u001b[0m\u001b[0m\n\u001b[0m",
      "\u001b[0;31mImportError\u001b[0m: No module named 'seaborn'"
     ]
    }
   ],
   "source": [
    "import seaborn as sns"
   ]
  },
  {
   "cell_type": "code",
   "execution_count": null,
   "metadata": {
    "collapsed": true
   },
   "outputs": [],
   "source": []
  }
 ],
 "metadata": {
  "anaconda-cloud": {},
  "kernelspec": {
   "display_name": "Python [conda root]",
   "language": "python",
   "name": "conda-root-py"
  },
  "language_info": {
   "codemirror_mode": {
    "name": "ipython",
    "version": 3
   },
   "file_extension": ".py",
   "mimetype": "text/x-python",
   "name": "python",
   "nbconvert_exporter": "python",
   "pygments_lexer": "ipython3",
   "version": "3.5.2"
  }
 },
 "nbformat": 4,
 "nbformat_minor": 2
}
